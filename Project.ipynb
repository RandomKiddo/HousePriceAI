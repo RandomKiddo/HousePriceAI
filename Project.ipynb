{
  "nbformat": 4,
  "nbformat_minor": 0,
  "metadata": {
    "colab": {
      "provenance": [],
      "collapsed_sections": [
        "PH43nsDYAE6w",
        "HCRjLCNhAACT",
        "Vw7yRevGA54Q",
        "gfaRELlnzWsX",
        "HIAJwLA3zxxq"
      ]
    },
    "kernelspec": {
      "name": "python3",
      "display_name": "Python 3"
    },
    "language_info": {
      "name": "python"
    }
  },
  "cells": [
    {
      "cell_type": "markdown",
      "source": [
        "### Importing Libraries"
      ],
      "metadata": {
        "id": "PH43nsDYAE6w"
      }
    },
    {
      "cell_type": "code",
      "execution_count": 2,
      "metadata": {
        "id": "RpzjMhFA_sdV"
      },
      "outputs": [],
      "source": [
        "import numpy as np\n",
        "import pandas as pd\n",
        "import matplotlib\n",
        "from matplotlib import pyplot as plot\n",
        "import sklearn "
      ]
    },
    {
      "cell_type": "markdown",
      "source": [
        "##### Version Check"
      ],
      "metadata": {
        "id": "HCRjLCNhAACT"
      }
    },
    {
      "cell_type": "code",
      "source": [
        "assert np.__version__ == '1.21.6'\n",
        "assert pd.__version__ == '1.3.5'\n",
        "assert matplotlib.__version__ == '3.2.2'\n",
        "assert sklearn.__version__ == '1.0.2'"
      ],
      "metadata": {
        "id": "Aw617nOSAOW4"
      },
      "execution_count": 3,
      "outputs": []
    },
    {
      "cell_type": "markdown",
      "source": [
        "### Importing / Prepping The Dataset<sup>1</sup>"
      ],
      "metadata": {
        "id": "Vw7yRevGA54Q"
      }
    },
    {
      "cell_type": "code",
      "source": [
        "data = pd.read_csv('data.csv')\n",
        "cities = pd.read_csv('cities.csv')\n",
        "street = pd.read_csv('street.csv')\n",
        "zipcode = pd.read_csv('zipcode.csv')"
      ],
      "metadata": {
        "id": "xARq_4u7A7up"
      },
      "execution_count": 4,
      "outputs": []
    },
    {
      "cell_type": "markdown",
      "source": [
        "##### Displaying The Dataset"
      ],
      "metadata": {
        "id": "GMuiZORABuZo"
      }
    },
    {
      "cell_type": "code",
      "source": [
        "# Prints The Keys and Their Data Types\n",
        "data.dtypes"
      ],
      "metadata": {
        "colab": {
          "base_uri": "https://localhost:8080/"
        },
        "id": "7Ky4pBYbBwi3",
        "outputId": "de3de75e-dc86-490a-c29f-bb6eeea88135"
      },
      "execution_count": 5,
      "outputs": [
        {
          "output_type": "execute_result",
          "data": {
            "text/plain": [
              "date              object\n",
              "price            float64\n",
              "bedrooms         float64\n",
              "bathrooms        float64\n",
              "sqft_living        int64\n",
              "sqft_lot           int64\n",
              "floors           float64\n",
              "waterfront         int64\n",
              "view               int64\n",
              "condition          int64\n",
              "sqft_above         int64\n",
              "sqft_basement      int64\n",
              "yr_built           int64\n",
              "yr_renovated       int64\n",
              "street            object\n",
              "city              object\n",
              "statezip          object\n",
              "country           object\n",
              "dtype: object"
            ]
          },
          "metadata": {},
          "execution_count": 5
        }
      ]
    },
    {
      "cell_type": "code",
      "source": [
        "# Describes The Data in a Table\n",
        "data.describe().transpose()"
      ],
      "metadata": {
        "colab": {
          "base_uri": "https://localhost:8080/",
          "height": 452
        },
        "id": "0Gmbq3YWBzGC",
        "outputId": "ec3affa2-70ba-4e79-fd00-7cf8abd34533"
      },
      "execution_count": 6,
      "outputs": [
        {
          "output_type": "execute_result",
          "data": {
            "text/plain": [
              "                count           mean            std     min        25%  \\\n",
              "price          4600.0  551962.988473  563834.702547     0.0  322875.00   \n",
              "bedrooms       4600.0       3.400870       0.908848     0.0       3.00   \n",
              "bathrooms      4600.0       2.160815       0.783781     0.0       1.75   \n",
              "sqft_living    4600.0    2139.346957     963.206916   370.0    1460.00   \n",
              "sqft_lot       4600.0   14852.516087   35884.436145   638.0    5000.75   \n",
              "floors         4600.0       1.512065       0.538288     1.0       1.00   \n",
              "waterfront     4600.0       0.007174       0.084404     0.0       0.00   \n",
              "view           4600.0       0.240652       0.778405     0.0       0.00   \n",
              "condition      4600.0       3.451739       0.677230     1.0       3.00   \n",
              "sqft_above     4600.0    1827.265435     862.168977   370.0    1190.00   \n",
              "sqft_basement  4600.0     312.081522     464.137228     0.0       0.00   \n",
              "yr_built       4600.0    1970.786304      29.731848  1900.0    1951.00   \n",
              "yr_renovated   4600.0     808.608261     979.414536     0.0       0.00   \n",
              "\n",
              "                         50%        75%         max  \n",
              "price          460943.461539  654962.50  26590000.0  \n",
              "bedrooms            3.000000       4.00         9.0  \n",
              "bathrooms           2.250000       2.50         8.0  \n",
              "sqft_living      1980.000000    2620.00     13540.0  \n",
              "sqft_lot         7683.000000   11001.25   1074218.0  \n",
              "floors              1.500000       2.00         3.5  \n",
              "waterfront          0.000000       0.00         1.0  \n",
              "view                0.000000       0.00         4.0  \n",
              "condition           3.000000       4.00         5.0  \n",
              "sqft_above       1590.000000    2300.00      9410.0  \n",
              "sqft_basement       0.000000     610.00      4820.0  \n",
              "yr_built         1976.000000    1997.00      2014.0  \n",
              "yr_renovated        0.000000    1999.00      2014.0  "
            ],
            "text/html": [
              "\n",
              "  <div id=\"df-a62a6c0f-1d4e-4d97-b922-e396a087fd5a\">\n",
              "    <div class=\"colab-df-container\">\n",
              "      <div>\n",
              "<style scoped>\n",
              "    .dataframe tbody tr th:only-of-type {\n",
              "        vertical-align: middle;\n",
              "    }\n",
              "\n",
              "    .dataframe tbody tr th {\n",
              "        vertical-align: top;\n",
              "    }\n",
              "\n",
              "    .dataframe thead th {\n",
              "        text-align: right;\n",
              "    }\n",
              "</style>\n",
              "<table border=\"1\" class=\"dataframe\">\n",
              "  <thead>\n",
              "    <tr style=\"text-align: right;\">\n",
              "      <th></th>\n",
              "      <th>count</th>\n",
              "      <th>mean</th>\n",
              "      <th>std</th>\n",
              "      <th>min</th>\n",
              "      <th>25%</th>\n",
              "      <th>50%</th>\n",
              "      <th>75%</th>\n",
              "      <th>max</th>\n",
              "    </tr>\n",
              "  </thead>\n",
              "  <tbody>\n",
              "    <tr>\n",
              "      <th>price</th>\n",
              "      <td>4600.0</td>\n",
              "      <td>551962.988473</td>\n",
              "      <td>563834.702547</td>\n",
              "      <td>0.0</td>\n",
              "      <td>322875.00</td>\n",
              "      <td>460943.461539</td>\n",
              "      <td>654962.50</td>\n",
              "      <td>26590000.0</td>\n",
              "    </tr>\n",
              "    <tr>\n",
              "      <th>bedrooms</th>\n",
              "      <td>4600.0</td>\n",
              "      <td>3.400870</td>\n",
              "      <td>0.908848</td>\n",
              "      <td>0.0</td>\n",
              "      <td>3.00</td>\n",
              "      <td>3.000000</td>\n",
              "      <td>4.00</td>\n",
              "      <td>9.0</td>\n",
              "    </tr>\n",
              "    <tr>\n",
              "      <th>bathrooms</th>\n",
              "      <td>4600.0</td>\n",
              "      <td>2.160815</td>\n",
              "      <td>0.783781</td>\n",
              "      <td>0.0</td>\n",
              "      <td>1.75</td>\n",
              "      <td>2.250000</td>\n",
              "      <td>2.50</td>\n",
              "      <td>8.0</td>\n",
              "    </tr>\n",
              "    <tr>\n",
              "      <th>sqft_living</th>\n",
              "      <td>4600.0</td>\n",
              "      <td>2139.346957</td>\n",
              "      <td>963.206916</td>\n",
              "      <td>370.0</td>\n",
              "      <td>1460.00</td>\n",
              "      <td>1980.000000</td>\n",
              "      <td>2620.00</td>\n",
              "      <td>13540.0</td>\n",
              "    </tr>\n",
              "    <tr>\n",
              "      <th>sqft_lot</th>\n",
              "      <td>4600.0</td>\n",
              "      <td>14852.516087</td>\n",
              "      <td>35884.436145</td>\n",
              "      <td>638.0</td>\n",
              "      <td>5000.75</td>\n",
              "      <td>7683.000000</td>\n",
              "      <td>11001.25</td>\n",
              "      <td>1074218.0</td>\n",
              "    </tr>\n",
              "    <tr>\n",
              "      <th>floors</th>\n",
              "      <td>4600.0</td>\n",
              "      <td>1.512065</td>\n",
              "      <td>0.538288</td>\n",
              "      <td>1.0</td>\n",
              "      <td>1.00</td>\n",
              "      <td>1.500000</td>\n",
              "      <td>2.00</td>\n",
              "      <td>3.5</td>\n",
              "    </tr>\n",
              "    <tr>\n",
              "      <th>waterfront</th>\n",
              "      <td>4600.0</td>\n",
              "      <td>0.007174</td>\n",
              "      <td>0.084404</td>\n",
              "      <td>0.0</td>\n",
              "      <td>0.00</td>\n",
              "      <td>0.000000</td>\n",
              "      <td>0.00</td>\n",
              "      <td>1.0</td>\n",
              "    </tr>\n",
              "    <tr>\n",
              "      <th>view</th>\n",
              "      <td>4600.0</td>\n",
              "      <td>0.240652</td>\n",
              "      <td>0.778405</td>\n",
              "      <td>0.0</td>\n",
              "      <td>0.00</td>\n",
              "      <td>0.000000</td>\n",
              "      <td>0.00</td>\n",
              "      <td>4.0</td>\n",
              "    </tr>\n",
              "    <tr>\n",
              "      <th>condition</th>\n",
              "      <td>4600.0</td>\n",
              "      <td>3.451739</td>\n",
              "      <td>0.677230</td>\n",
              "      <td>1.0</td>\n",
              "      <td>3.00</td>\n",
              "      <td>3.000000</td>\n",
              "      <td>4.00</td>\n",
              "      <td>5.0</td>\n",
              "    </tr>\n",
              "    <tr>\n",
              "      <th>sqft_above</th>\n",
              "      <td>4600.0</td>\n",
              "      <td>1827.265435</td>\n",
              "      <td>862.168977</td>\n",
              "      <td>370.0</td>\n",
              "      <td>1190.00</td>\n",
              "      <td>1590.000000</td>\n",
              "      <td>2300.00</td>\n",
              "      <td>9410.0</td>\n",
              "    </tr>\n",
              "    <tr>\n",
              "      <th>sqft_basement</th>\n",
              "      <td>4600.0</td>\n",
              "      <td>312.081522</td>\n",
              "      <td>464.137228</td>\n",
              "      <td>0.0</td>\n",
              "      <td>0.00</td>\n",
              "      <td>0.000000</td>\n",
              "      <td>610.00</td>\n",
              "      <td>4820.0</td>\n",
              "    </tr>\n",
              "    <tr>\n",
              "      <th>yr_built</th>\n",
              "      <td>4600.0</td>\n",
              "      <td>1970.786304</td>\n",
              "      <td>29.731848</td>\n",
              "      <td>1900.0</td>\n",
              "      <td>1951.00</td>\n",
              "      <td>1976.000000</td>\n",
              "      <td>1997.00</td>\n",
              "      <td>2014.0</td>\n",
              "    </tr>\n",
              "    <tr>\n",
              "      <th>yr_renovated</th>\n",
              "      <td>4600.0</td>\n",
              "      <td>808.608261</td>\n",
              "      <td>979.414536</td>\n",
              "      <td>0.0</td>\n",
              "      <td>0.00</td>\n",
              "      <td>0.000000</td>\n",
              "      <td>1999.00</td>\n",
              "      <td>2014.0</td>\n",
              "    </tr>\n",
              "  </tbody>\n",
              "</table>\n",
              "</div>\n",
              "      <button class=\"colab-df-convert\" onclick=\"convertToInteractive('df-a62a6c0f-1d4e-4d97-b922-e396a087fd5a')\"\n",
              "              title=\"Convert this dataframe to an interactive table.\"\n",
              "              style=\"display:none;\">\n",
              "        \n",
              "  <svg xmlns=\"http://www.w3.org/2000/svg\" height=\"24px\"viewBox=\"0 0 24 24\"\n",
              "       width=\"24px\">\n",
              "    <path d=\"M0 0h24v24H0V0z\" fill=\"none\"/>\n",
              "    <path d=\"M18.56 5.44l.94 2.06.94-2.06 2.06-.94-2.06-.94-.94-2.06-.94 2.06-2.06.94zm-11 1L8.5 8.5l.94-2.06 2.06-.94-2.06-.94L8.5 2.5l-.94 2.06-2.06.94zm10 10l.94 2.06.94-2.06 2.06-.94-2.06-.94-.94-2.06-.94 2.06-2.06.94z\"/><path d=\"M17.41 7.96l-1.37-1.37c-.4-.4-.92-.59-1.43-.59-.52 0-1.04.2-1.43.59L10.3 9.45l-7.72 7.72c-.78.78-.78 2.05 0 2.83L4 21.41c.39.39.9.59 1.41.59.51 0 1.02-.2 1.41-.59l7.78-7.78 2.81-2.81c.8-.78.8-2.07 0-2.86zM5.41 20L4 18.59l7.72-7.72 1.47 1.35L5.41 20z\"/>\n",
              "  </svg>\n",
              "      </button>\n",
              "      \n",
              "  <style>\n",
              "    .colab-df-container {\n",
              "      display:flex;\n",
              "      flex-wrap:wrap;\n",
              "      gap: 12px;\n",
              "    }\n",
              "\n",
              "    .colab-df-convert {\n",
              "      background-color: #E8F0FE;\n",
              "      border: none;\n",
              "      border-radius: 50%;\n",
              "      cursor: pointer;\n",
              "      display: none;\n",
              "      fill: #1967D2;\n",
              "      height: 32px;\n",
              "      padding: 0 0 0 0;\n",
              "      width: 32px;\n",
              "    }\n",
              "\n",
              "    .colab-df-convert:hover {\n",
              "      background-color: #E2EBFA;\n",
              "      box-shadow: 0px 1px 2px rgba(60, 64, 67, 0.3), 0px 1px 3px 1px rgba(60, 64, 67, 0.15);\n",
              "      fill: #174EA6;\n",
              "    }\n",
              "\n",
              "    [theme=dark] .colab-df-convert {\n",
              "      background-color: #3B4455;\n",
              "      fill: #D2E3FC;\n",
              "    }\n",
              "\n",
              "    [theme=dark] .colab-df-convert:hover {\n",
              "      background-color: #434B5C;\n",
              "      box-shadow: 0px 1px 3px 1px rgba(0, 0, 0, 0.15);\n",
              "      filter: drop-shadow(0px 1px 2px rgba(0, 0, 0, 0.3));\n",
              "      fill: #FFFFFF;\n",
              "    }\n",
              "  </style>\n",
              "\n",
              "      <script>\n",
              "        const buttonEl =\n",
              "          document.querySelector('#df-a62a6c0f-1d4e-4d97-b922-e396a087fd5a button.colab-df-convert');\n",
              "        buttonEl.style.display =\n",
              "          google.colab.kernel.accessAllowed ? 'block' : 'none';\n",
              "\n",
              "        async function convertToInteractive(key) {\n",
              "          const element = document.querySelector('#df-a62a6c0f-1d4e-4d97-b922-e396a087fd5a');\n",
              "          const dataTable =\n",
              "            await google.colab.kernel.invokeFunction('convertToInteractive',\n",
              "                                                     [key], {});\n",
              "          if (!dataTable) return;\n",
              "\n",
              "          const docLinkHtml = 'Like what you see? Visit the ' +\n",
              "            '<a target=\"_blank\" href=https://colab.research.google.com/notebooks/data_table.ipynb>data table notebook</a>'\n",
              "            + ' to learn more about interactive tables.';\n",
              "          element.innerHTML = '';\n",
              "          dataTable['output_type'] = 'display_data';\n",
              "          await google.colab.output.renderOutput(dataTable, element);\n",
              "          const docLink = document.createElement('div');\n",
              "          docLink.innerHTML = docLinkHtml;\n",
              "          element.appendChild(docLink);\n",
              "        }\n",
              "      </script>\n",
              "    </div>\n",
              "  </div>\n",
              "  "
            ]
          },
          "metadata": {},
          "execution_count": 6
        }
      ]
    },
    {
      "cell_type": "markdown",
      "source": [
        "##### Enumeration\n"
      ],
      "metadata": {
        "id": "SvoKSc3fDD2I"
      }
    },
    {
      "cell_type": "code",
      "source": [
        "# Enumerate Object Data Onto Ints\n",
        "data = pd.merge(data, cities, on='city')\n",
        "data = pd.merge(data, street, on='street')\n",
        "data = pd.merge(data, zipcode, on='statezip')\n",
        "\n",
        "# Drop The Related Columns\n",
        "data = data.drop(columns=['city', 'street', 'statezip', 'country', 'date']) # country, date Dropped Due To Irrelevance\n",
        "\n",
        "# Check For Correct Enumeration\n",
        "data.head()"
      ],
      "metadata": {
        "colab": {
          "base_uri": "https://localhost:8080/",
          "height": 256
        },
        "id": "Ycm_PtujGPYn",
        "outputId": "9e7701c4-2e94-453f-d02f-8c9236397d09"
      },
      "execution_count": 7,
      "outputs": [
        {
          "output_type": "execute_result",
          "data": {
            "text/plain": [
              "      price  bedrooms  bathrooms  sqft_living  sqft_lot  floors  waterfront  \\\n",
              "0  313000.0       3.0        1.5         1340      7912     1.5           0   \n",
              "1  313000.0       3.0        1.5         1340      7912     1.5           0   \n",
              "2  313000.0       3.0        1.5         1340      7912     1.5           0   \n",
              "3  313000.0       3.0        1.5         1340      7912     1.5           0   \n",
              "4  313000.0       3.0        1.5         1340      7912     1.5           0   \n",
              "\n",
              "   view  condition  sqft_above  sqft_basement  yr_built  yr_renovated  cityid  \\\n",
              "0     0          3        1340              0      1955          2005       0   \n",
              "1     0          3        1340              0      1955          2005       0   \n",
              "2     0          3        1340              0      1955          2005       0   \n",
              "3     0          3        1340              0      1955          2005       0   \n",
              "4     0          3        1340              0      1955          2005       0   \n",
              "\n",
              "   streetid  zipcode  \n",
              "0         0    98133  \n",
              "1         0    98133  \n",
              "2         0    98133  \n",
              "3         0    98133  \n",
              "4         0    98133  "
            ],
            "text/html": [
              "\n",
              "  <div id=\"df-4c7985f9-3e29-4fdf-8236-a01bbb720424\">\n",
              "    <div class=\"colab-df-container\">\n",
              "      <div>\n",
              "<style scoped>\n",
              "    .dataframe tbody tr th:only-of-type {\n",
              "        vertical-align: middle;\n",
              "    }\n",
              "\n",
              "    .dataframe tbody tr th {\n",
              "        vertical-align: top;\n",
              "    }\n",
              "\n",
              "    .dataframe thead th {\n",
              "        text-align: right;\n",
              "    }\n",
              "</style>\n",
              "<table border=\"1\" class=\"dataframe\">\n",
              "  <thead>\n",
              "    <tr style=\"text-align: right;\">\n",
              "      <th></th>\n",
              "      <th>price</th>\n",
              "      <th>bedrooms</th>\n",
              "      <th>bathrooms</th>\n",
              "      <th>sqft_living</th>\n",
              "      <th>sqft_lot</th>\n",
              "      <th>floors</th>\n",
              "      <th>waterfront</th>\n",
              "      <th>view</th>\n",
              "      <th>condition</th>\n",
              "      <th>sqft_above</th>\n",
              "      <th>sqft_basement</th>\n",
              "      <th>yr_built</th>\n",
              "      <th>yr_renovated</th>\n",
              "      <th>cityid</th>\n",
              "      <th>streetid</th>\n",
              "      <th>zipcode</th>\n",
              "    </tr>\n",
              "  </thead>\n",
              "  <tbody>\n",
              "    <tr>\n",
              "      <th>0</th>\n",
              "      <td>313000.0</td>\n",
              "      <td>3.0</td>\n",
              "      <td>1.5</td>\n",
              "      <td>1340</td>\n",
              "      <td>7912</td>\n",
              "      <td>1.5</td>\n",
              "      <td>0</td>\n",
              "      <td>0</td>\n",
              "      <td>3</td>\n",
              "      <td>1340</td>\n",
              "      <td>0</td>\n",
              "      <td>1955</td>\n",
              "      <td>2005</td>\n",
              "      <td>0</td>\n",
              "      <td>0</td>\n",
              "      <td>98133</td>\n",
              "    </tr>\n",
              "    <tr>\n",
              "      <th>1</th>\n",
              "      <td>313000.0</td>\n",
              "      <td>3.0</td>\n",
              "      <td>1.5</td>\n",
              "      <td>1340</td>\n",
              "      <td>7912</td>\n",
              "      <td>1.5</td>\n",
              "      <td>0</td>\n",
              "      <td>0</td>\n",
              "      <td>3</td>\n",
              "      <td>1340</td>\n",
              "      <td>0</td>\n",
              "      <td>1955</td>\n",
              "      <td>2005</td>\n",
              "      <td>0</td>\n",
              "      <td>0</td>\n",
              "      <td>98133</td>\n",
              "    </tr>\n",
              "    <tr>\n",
              "      <th>2</th>\n",
              "      <td>313000.0</td>\n",
              "      <td>3.0</td>\n",
              "      <td>1.5</td>\n",
              "      <td>1340</td>\n",
              "      <td>7912</td>\n",
              "      <td>1.5</td>\n",
              "      <td>0</td>\n",
              "      <td>0</td>\n",
              "      <td>3</td>\n",
              "      <td>1340</td>\n",
              "      <td>0</td>\n",
              "      <td>1955</td>\n",
              "      <td>2005</td>\n",
              "      <td>0</td>\n",
              "      <td>0</td>\n",
              "      <td>98133</td>\n",
              "    </tr>\n",
              "    <tr>\n",
              "      <th>3</th>\n",
              "      <td>313000.0</td>\n",
              "      <td>3.0</td>\n",
              "      <td>1.5</td>\n",
              "      <td>1340</td>\n",
              "      <td>7912</td>\n",
              "      <td>1.5</td>\n",
              "      <td>0</td>\n",
              "      <td>0</td>\n",
              "      <td>3</td>\n",
              "      <td>1340</td>\n",
              "      <td>0</td>\n",
              "      <td>1955</td>\n",
              "      <td>2005</td>\n",
              "      <td>0</td>\n",
              "      <td>0</td>\n",
              "      <td>98133</td>\n",
              "    </tr>\n",
              "    <tr>\n",
              "      <th>4</th>\n",
              "      <td>313000.0</td>\n",
              "      <td>3.0</td>\n",
              "      <td>1.5</td>\n",
              "      <td>1340</td>\n",
              "      <td>7912</td>\n",
              "      <td>1.5</td>\n",
              "      <td>0</td>\n",
              "      <td>0</td>\n",
              "      <td>3</td>\n",
              "      <td>1340</td>\n",
              "      <td>0</td>\n",
              "      <td>1955</td>\n",
              "      <td>2005</td>\n",
              "      <td>0</td>\n",
              "      <td>0</td>\n",
              "      <td>98133</td>\n",
              "    </tr>\n",
              "  </tbody>\n",
              "</table>\n",
              "</div>\n",
              "      <button class=\"colab-df-convert\" onclick=\"convertToInteractive('df-4c7985f9-3e29-4fdf-8236-a01bbb720424')\"\n",
              "              title=\"Convert this dataframe to an interactive table.\"\n",
              "              style=\"display:none;\">\n",
              "        \n",
              "  <svg xmlns=\"http://www.w3.org/2000/svg\" height=\"24px\"viewBox=\"0 0 24 24\"\n",
              "       width=\"24px\">\n",
              "    <path d=\"M0 0h24v24H0V0z\" fill=\"none\"/>\n",
              "    <path d=\"M18.56 5.44l.94 2.06.94-2.06 2.06-.94-2.06-.94-.94-2.06-.94 2.06-2.06.94zm-11 1L8.5 8.5l.94-2.06 2.06-.94-2.06-.94L8.5 2.5l-.94 2.06-2.06.94zm10 10l.94 2.06.94-2.06 2.06-.94-2.06-.94-.94-2.06-.94 2.06-2.06.94z\"/><path d=\"M17.41 7.96l-1.37-1.37c-.4-.4-.92-.59-1.43-.59-.52 0-1.04.2-1.43.59L10.3 9.45l-7.72 7.72c-.78.78-.78 2.05 0 2.83L4 21.41c.39.39.9.59 1.41.59.51 0 1.02-.2 1.41-.59l7.78-7.78 2.81-2.81c.8-.78.8-2.07 0-2.86zM5.41 20L4 18.59l7.72-7.72 1.47 1.35L5.41 20z\"/>\n",
              "  </svg>\n",
              "      </button>\n",
              "      \n",
              "  <style>\n",
              "    .colab-df-container {\n",
              "      display:flex;\n",
              "      flex-wrap:wrap;\n",
              "      gap: 12px;\n",
              "    }\n",
              "\n",
              "    .colab-df-convert {\n",
              "      background-color: #E8F0FE;\n",
              "      border: none;\n",
              "      border-radius: 50%;\n",
              "      cursor: pointer;\n",
              "      display: none;\n",
              "      fill: #1967D2;\n",
              "      height: 32px;\n",
              "      padding: 0 0 0 0;\n",
              "      width: 32px;\n",
              "    }\n",
              "\n",
              "    .colab-df-convert:hover {\n",
              "      background-color: #E2EBFA;\n",
              "      box-shadow: 0px 1px 2px rgba(60, 64, 67, 0.3), 0px 1px 3px 1px rgba(60, 64, 67, 0.15);\n",
              "      fill: #174EA6;\n",
              "    }\n",
              "\n",
              "    [theme=dark] .colab-df-convert {\n",
              "      background-color: #3B4455;\n",
              "      fill: #D2E3FC;\n",
              "    }\n",
              "\n",
              "    [theme=dark] .colab-df-convert:hover {\n",
              "      background-color: #434B5C;\n",
              "      box-shadow: 0px 1px 3px 1px rgba(0, 0, 0, 0.15);\n",
              "      filter: drop-shadow(0px 1px 2px rgba(0, 0, 0, 0.3));\n",
              "      fill: #FFFFFF;\n",
              "    }\n",
              "  </style>\n",
              "\n",
              "      <script>\n",
              "        const buttonEl =\n",
              "          document.querySelector('#df-4c7985f9-3e29-4fdf-8236-a01bbb720424 button.colab-df-convert');\n",
              "        buttonEl.style.display =\n",
              "          google.colab.kernel.accessAllowed ? 'block' : 'none';\n",
              "\n",
              "        async function convertToInteractive(key) {\n",
              "          const element = document.querySelector('#df-4c7985f9-3e29-4fdf-8236-a01bbb720424');\n",
              "          const dataTable =\n",
              "            await google.colab.kernel.invokeFunction('convertToInteractive',\n",
              "                                                     [key], {});\n",
              "          if (!dataTable) return;\n",
              "\n",
              "          const docLinkHtml = 'Like what you see? Visit the ' +\n",
              "            '<a target=\"_blank\" href=https://colab.research.google.com/notebooks/data_table.ipynb>data table notebook</a>'\n",
              "            + ' to learn more about interactive tables.';\n",
              "          element.innerHTML = '';\n",
              "          dataTable['output_type'] = 'display_data';\n",
              "          await google.colab.output.renderOutput(dataTable, element);\n",
              "          const docLink = document.createElement('div');\n",
              "          docLink.innerHTML = docLinkHtml;\n",
              "          element.appendChild(docLink);\n",
              "        }\n",
              "      </script>\n",
              "    </div>\n",
              "  </div>\n",
              "  "
            ]
          },
          "metadata": {},
          "execution_count": 7
        }
      ]
    },
    {
      "cell_type": "code",
      "source": [
        "# Check All Data Is Numbers\n",
        "data.dtypes"
      ],
      "metadata": {
        "colab": {
          "base_uri": "https://localhost:8080/"
        },
        "id": "BTOCxULyLKzc",
        "outputId": "b8376697-ec42-42e3-9d5f-05e226e04021"
      },
      "execution_count": 8,
      "outputs": [
        {
          "output_type": "execute_result",
          "data": {
            "text/plain": [
              "price            float64\n",
              "bedrooms         float64\n",
              "bathrooms        float64\n",
              "sqft_living        int64\n",
              "sqft_lot           int64\n",
              "floors           float64\n",
              "waterfront         int64\n",
              "view               int64\n",
              "condition          int64\n",
              "sqft_above         int64\n",
              "sqft_basement      int64\n",
              "yr_built           int64\n",
              "yr_renovated       int64\n",
              "cityid             int64\n",
              "streetid           int64\n",
              "zipcode            int64\n",
              "dtype: object"
            ]
          },
          "metadata": {},
          "execution_count": 8
        }
      ]
    },
    {
      "cell_type": "code",
      "source": [
        "# Physical Assertion That All Data Is Numbers\n",
        "for _ in data.dtypes:\n",
        "  assert type(_) is 'float64' or 'int64'"
      ],
      "metadata": {
        "id": "BzZ6lFCThBi8"
      },
      "execution_count": 9,
      "outputs": []
    },
    {
      "cell_type": "markdown",
      "source": [
        "##### Check Unusable Data"
      ],
      "metadata": {
        "id": "BkLDtrhzLoAD"
      }
    },
    {
      "cell_type": "code",
      "source": [
        "# Checking Amount of Null Values\n",
        "data.isna().sum()"
      ],
      "metadata": {
        "id": "w08zRazTLrp1",
        "colab": {
          "base_uri": "https://localhost:8080/"
        },
        "outputId": "1ab2cadb-0ab3-4e06-ac06-5573fb4d2dbb"
      },
      "execution_count": 10,
      "outputs": [
        {
          "output_type": "execute_result",
          "data": {
            "text/plain": [
              "price            0\n",
              "bedrooms         0\n",
              "bathrooms        0\n",
              "sqft_living      0\n",
              "sqft_lot         0\n",
              "floors           0\n",
              "waterfront       0\n",
              "view             0\n",
              "condition        0\n",
              "sqft_above       0\n",
              "sqft_basement    0\n",
              "yr_built         0\n",
              "yr_renovated     0\n",
              "cityid           0\n",
              "streetid         0\n",
              "zipcode          0\n",
              "dtype: int64"
            ]
          },
          "metadata": {},
          "execution_count": 10
        }
      ]
    },
    {
      "cell_type": "markdown",
      "source": [
        "Since we have no null values, we only need to check for unusable values, such as duplicates, or invalid values."
      ],
      "metadata": {
        "id": "CrMvaZ1Nha2t"
      }
    },
    {
      "cell_type": "code",
      "source": [
        "# Checking Amount of Duplicate Values\n",
        "data.duplicated().sum()"
      ],
      "metadata": {
        "colab": {
          "base_uri": "https://localhost:8080/"
        },
        "id": "qlf3StX2xnjq",
        "outputId": "8b928a09-3f79-46d9-f08d-48c04d764098"
      },
      "execution_count": 11,
      "outputs": [
        {
          "output_type": "execute_result",
          "data": {
            "text/plain": [
              "362466"
            ]
          },
          "metadata": {},
          "execution_count": 11
        }
      ]
    },
    {
      "cell_type": "markdown",
      "source": [
        "Since many of our values will have the same value (i.e. many houses will have two or three floors), we don't need to deal with duplicated values"
      ],
      "metadata": {
        "id": "rtfhCOx3LKLf"
      }
    },
    {
      "cell_type": "code",
      "source": [
        "# Print What Unusable Values We Have\n",
        "no_check = ['waterfront', 'view', 'sqft_basement', 'cityid', 'streetid', 'yr_renovated']\n",
        "# no_check are fields we don't need to check because they're values are\n",
        "# confirmed usable or there is no value that doesn't make sense for them \n",
        "for _ in data:\n",
        "  if _ in no_check: continue \n",
        "  subset = data.loc[data[_] <= 0]\n",
        "  l = len(subset.index)\n",
        "  if l > 0: print(f'{_}: {l}')"
      ],
      "metadata": {
        "colab": {
          "base_uri": "https://localhost:8080/"
        },
        "id": "RsKMJbaHhPMj",
        "outputId": "847e3660-9d21-420f-a05a-90eff6db2a9d"
      },
      "execution_count": 12,
      "outputs": [
        {
          "output_type": "stream",
          "name": "stdout",
          "text": [
            "price: 3482\n",
            "bedrooms: 121\n",
            "bathrooms: 121\n"
          ]
        }
      ]
    },
    {
      "cell_type": "markdown",
      "source": [
        "So what do these values mean?\n",
        "\n",
        "`price` being `0`, `bedrooms` being `0`, and `bathrooms` being `0` is illogical because every house should cost money, and should have at least one bedroom or bathroom."
      ],
      "metadata": {
        "id": "XUIp9Wfji3IC"
      }
    },
    {
      "cell_type": "markdown",
      "source": [
        "##### Dealing With Unusable Data"
      ],
      "metadata": {
        "id": "0Mt8dxC9jMcG"
      }
    },
    {
      "cell_type": "markdown",
      "source": [
        "Currently, we have `3724` rows that include missing data (some rows could be counted for twice) "
      ],
      "metadata": {
        "id": "DoWFI-SerJdf"
      }
    },
    {
      "cell_type": "code",
      "source": [
        "# Percentages Of Missing Data\n",
        "print(round((3724 / len(data.index)) * 100, 2))\n",
        "print(round((3482 / 3724 * 100), 2))\n"
      ],
      "metadata": {
        "colab": {
          "base_uri": "https://localhost:8080/"
        },
        "id": "7eOsFjc_jTk6",
        "outputId": "446b4e07-45d9-4ede-8aa0-f369f8c294f2"
      },
      "execution_count": 13,
      "outputs": [
        {
          "output_type": "stream",
          "name": "stdout",
          "text": [
            "1.01\n",
            "93.5\n"
          ]
        }
      ]
    },
    {
      "cell_type": "markdown",
      "source": [
        "Precisely, `1.01%` of our data has unusable values, however `93.50%` of that is missing price values. Our model aims to predict price, so missing price values does nothing to help with training our model directly (It can help with testing the model's effectiveness). Additionally, filling in a value (i.e. the mean, median, or mode) of the data will only reduce the accuracy of our AI. Therefore, it is reasonable to drop any row that has a missing price value.\n",
        "\n"
      ],
      "metadata": {
        "id": "zMf58A0BsEZB"
      }
    },
    {
      "cell_type": "code",
      "source": [
        "# Collect And Drop Missing Data Rows\n",
        "r_initial = len(data.index)\n",
        "no_price = data.loc[data['price'] <= 0] # Save for later\n",
        "data = data.drop(index=(data.loc[data['price'] <= 0]).index)\n",
        "r_final = len(data.index)\n",
        "\n",
        "# Assert Rows Dropped Equals Number Of Rows With No Price\n",
        "assert (r_initial - r_final) == 3482\n",
        "data.head()"
      ],
      "metadata": {
        "colab": {
          "base_uri": "https://localhost:8080/",
          "height": 256
        },
        "id": "OFmzTtfQsM5G",
        "outputId": "17b32d8f-7124-495a-ba99-0afd0c61461d"
      },
      "execution_count": 14,
      "outputs": [
        {
          "output_type": "execute_result",
          "data": {
            "text/plain": [
              "      price  bedrooms  bathrooms  sqft_living  sqft_lot  floors  waterfront  \\\n",
              "0  313000.0       3.0        1.5         1340      7912     1.5           0   \n",
              "1  313000.0       3.0        1.5         1340      7912     1.5           0   \n",
              "2  313000.0       3.0        1.5         1340      7912     1.5           0   \n",
              "3  313000.0       3.0        1.5         1340      7912     1.5           0   \n",
              "4  313000.0       3.0        1.5         1340      7912     1.5           0   \n",
              "\n",
              "   view  condition  sqft_above  sqft_basement  yr_built  yr_renovated  cityid  \\\n",
              "0     0          3        1340              0      1955          2005       0   \n",
              "1     0          3        1340              0      1955          2005       0   \n",
              "2     0          3        1340              0      1955          2005       0   \n",
              "3     0          3        1340              0      1955          2005       0   \n",
              "4     0          3        1340              0      1955          2005       0   \n",
              "\n",
              "   streetid  zipcode  \n",
              "0         0    98133  \n",
              "1         0    98133  \n",
              "2         0    98133  \n",
              "3         0    98133  \n",
              "4         0    98133  "
            ],
            "text/html": [
              "\n",
              "  <div id=\"df-4f1079e8-5c17-4b7d-bd2b-c72aaae5fa34\">\n",
              "    <div class=\"colab-df-container\">\n",
              "      <div>\n",
              "<style scoped>\n",
              "    .dataframe tbody tr th:only-of-type {\n",
              "        vertical-align: middle;\n",
              "    }\n",
              "\n",
              "    .dataframe tbody tr th {\n",
              "        vertical-align: top;\n",
              "    }\n",
              "\n",
              "    .dataframe thead th {\n",
              "        text-align: right;\n",
              "    }\n",
              "</style>\n",
              "<table border=\"1\" class=\"dataframe\">\n",
              "  <thead>\n",
              "    <tr style=\"text-align: right;\">\n",
              "      <th></th>\n",
              "      <th>price</th>\n",
              "      <th>bedrooms</th>\n",
              "      <th>bathrooms</th>\n",
              "      <th>sqft_living</th>\n",
              "      <th>sqft_lot</th>\n",
              "      <th>floors</th>\n",
              "      <th>waterfront</th>\n",
              "      <th>view</th>\n",
              "      <th>condition</th>\n",
              "      <th>sqft_above</th>\n",
              "      <th>sqft_basement</th>\n",
              "      <th>yr_built</th>\n",
              "      <th>yr_renovated</th>\n",
              "      <th>cityid</th>\n",
              "      <th>streetid</th>\n",
              "      <th>zipcode</th>\n",
              "    </tr>\n",
              "  </thead>\n",
              "  <tbody>\n",
              "    <tr>\n",
              "      <th>0</th>\n",
              "      <td>313000.0</td>\n",
              "      <td>3.0</td>\n",
              "      <td>1.5</td>\n",
              "      <td>1340</td>\n",
              "      <td>7912</td>\n",
              "      <td>1.5</td>\n",
              "      <td>0</td>\n",
              "      <td>0</td>\n",
              "      <td>3</td>\n",
              "      <td>1340</td>\n",
              "      <td>0</td>\n",
              "      <td>1955</td>\n",
              "      <td>2005</td>\n",
              "      <td>0</td>\n",
              "      <td>0</td>\n",
              "      <td>98133</td>\n",
              "    </tr>\n",
              "    <tr>\n",
              "      <th>1</th>\n",
              "      <td>313000.0</td>\n",
              "      <td>3.0</td>\n",
              "      <td>1.5</td>\n",
              "      <td>1340</td>\n",
              "      <td>7912</td>\n",
              "      <td>1.5</td>\n",
              "      <td>0</td>\n",
              "      <td>0</td>\n",
              "      <td>3</td>\n",
              "      <td>1340</td>\n",
              "      <td>0</td>\n",
              "      <td>1955</td>\n",
              "      <td>2005</td>\n",
              "      <td>0</td>\n",
              "      <td>0</td>\n",
              "      <td>98133</td>\n",
              "    </tr>\n",
              "    <tr>\n",
              "      <th>2</th>\n",
              "      <td>313000.0</td>\n",
              "      <td>3.0</td>\n",
              "      <td>1.5</td>\n",
              "      <td>1340</td>\n",
              "      <td>7912</td>\n",
              "      <td>1.5</td>\n",
              "      <td>0</td>\n",
              "      <td>0</td>\n",
              "      <td>3</td>\n",
              "      <td>1340</td>\n",
              "      <td>0</td>\n",
              "      <td>1955</td>\n",
              "      <td>2005</td>\n",
              "      <td>0</td>\n",
              "      <td>0</td>\n",
              "      <td>98133</td>\n",
              "    </tr>\n",
              "    <tr>\n",
              "      <th>3</th>\n",
              "      <td>313000.0</td>\n",
              "      <td>3.0</td>\n",
              "      <td>1.5</td>\n",
              "      <td>1340</td>\n",
              "      <td>7912</td>\n",
              "      <td>1.5</td>\n",
              "      <td>0</td>\n",
              "      <td>0</td>\n",
              "      <td>3</td>\n",
              "      <td>1340</td>\n",
              "      <td>0</td>\n",
              "      <td>1955</td>\n",
              "      <td>2005</td>\n",
              "      <td>0</td>\n",
              "      <td>0</td>\n",
              "      <td>98133</td>\n",
              "    </tr>\n",
              "    <tr>\n",
              "      <th>4</th>\n",
              "      <td>313000.0</td>\n",
              "      <td>3.0</td>\n",
              "      <td>1.5</td>\n",
              "      <td>1340</td>\n",
              "      <td>7912</td>\n",
              "      <td>1.5</td>\n",
              "      <td>0</td>\n",
              "      <td>0</td>\n",
              "      <td>3</td>\n",
              "      <td>1340</td>\n",
              "      <td>0</td>\n",
              "      <td>1955</td>\n",
              "      <td>2005</td>\n",
              "      <td>0</td>\n",
              "      <td>0</td>\n",
              "      <td>98133</td>\n",
              "    </tr>\n",
              "  </tbody>\n",
              "</table>\n",
              "</div>\n",
              "      <button class=\"colab-df-convert\" onclick=\"convertToInteractive('df-4f1079e8-5c17-4b7d-bd2b-c72aaae5fa34')\"\n",
              "              title=\"Convert this dataframe to an interactive table.\"\n",
              "              style=\"display:none;\">\n",
              "        \n",
              "  <svg xmlns=\"http://www.w3.org/2000/svg\" height=\"24px\"viewBox=\"0 0 24 24\"\n",
              "       width=\"24px\">\n",
              "    <path d=\"M0 0h24v24H0V0z\" fill=\"none\"/>\n",
              "    <path d=\"M18.56 5.44l.94 2.06.94-2.06 2.06-.94-2.06-.94-.94-2.06-.94 2.06-2.06.94zm-11 1L8.5 8.5l.94-2.06 2.06-.94-2.06-.94L8.5 2.5l-.94 2.06-2.06.94zm10 10l.94 2.06.94-2.06 2.06-.94-2.06-.94-.94-2.06-.94 2.06-2.06.94z\"/><path d=\"M17.41 7.96l-1.37-1.37c-.4-.4-.92-.59-1.43-.59-.52 0-1.04.2-1.43.59L10.3 9.45l-7.72 7.72c-.78.78-.78 2.05 0 2.83L4 21.41c.39.39.9.59 1.41.59.51 0 1.02-.2 1.41-.59l7.78-7.78 2.81-2.81c.8-.78.8-2.07 0-2.86zM5.41 20L4 18.59l7.72-7.72 1.47 1.35L5.41 20z\"/>\n",
              "  </svg>\n",
              "      </button>\n",
              "      \n",
              "  <style>\n",
              "    .colab-df-container {\n",
              "      display:flex;\n",
              "      flex-wrap:wrap;\n",
              "      gap: 12px;\n",
              "    }\n",
              "\n",
              "    .colab-df-convert {\n",
              "      background-color: #E8F0FE;\n",
              "      border: none;\n",
              "      border-radius: 50%;\n",
              "      cursor: pointer;\n",
              "      display: none;\n",
              "      fill: #1967D2;\n",
              "      height: 32px;\n",
              "      padding: 0 0 0 0;\n",
              "      width: 32px;\n",
              "    }\n",
              "\n",
              "    .colab-df-convert:hover {\n",
              "      background-color: #E2EBFA;\n",
              "      box-shadow: 0px 1px 2px rgba(60, 64, 67, 0.3), 0px 1px 3px 1px rgba(60, 64, 67, 0.15);\n",
              "      fill: #174EA6;\n",
              "    }\n",
              "\n",
              "    [theme=dark] .colab-df-convert {\n",
              "      background-color: #3B4455;\n",
              "      fill: #D2E3FC;\n",
              "    }\n",
              "\n",
              "    [theme=dark] .colab-df-convert:hover {\n",
              "      background-color: #434B5C;\n",
              "      box-shadow: 0px 1px 3px 1px rgba(0, 0, 0, 0.15);\n",
              "      filter: drop-shadow(0px 1px 2px rgba(0, 0, 0, 0.3));\n",
              "      fill: #FFFFFF;\n",
              "    }\n",
              "  </style>\n",
              "\n",
              "      <script>\n",
              "        const buttonEl =\n",
              "          document.querySelector('#df-4f1079e8-5c17-4b7d-bd2b-c72aaae5fa34 button.colab-df-convert');\n",
              "        buttonEl.style.display =\n",
              "          google.colab.kernel.accessAllowed ? 'block' : 'none';\n",
              "\n",
              "        async function convertToInteractive(key) {\n",
              "          const element = document.querySelector('#df-4f1079e8-5c17-4b7d-bd2b-c72aaae5fa34');\n",
              "          const dataTable =\n",
              "            await google.colab.kernel.invokeFunction('convertToInteractive',\n",
              "                                                     [key], {});\n",
              "          if (!dataTable) return;\n",
              "\n",
              "          const docLinkHtml = 'Like what you see? Visit the ' +\n",
              "            '<a target=\"_blank\" href=https://colab.research.google.com/notebooks/data_table.ipynb>data table notebook</a>'\n",
              "            + ' to learn more about interactive tables.';\n",
              "          element.innerHTML = '';\n",
              "          dataTable['output_type'] = 'display_data';\n",
              "          await google.colab.output.renderOutput(dataTable, element);\n",
              "          const docLink = document.createElement('div');\n",
              "          docLink.innerHTML = docLinkHtml;\n",
              "          element.appendChild(docLink);\n",
              "        }\n",
              "      </script>\n",
              "    </div>\n",
              "  </div>\n",
              "  "
            ]
          },
          "metadata": {},
          "execution_count": 14
        }
      ]
    },
    {
      "cell_type": "code",
      "source": [
        "# Percent Of Non-Price Unusable Data\n",
        "print(round(242 / len(data.index) * 100, 2))\n",
        "print(round(242 / 3724 * 100, 2))"
      ],
      "metadata": {
        "colab": {
          "base_uri": "https://localhost:8080/"
        },
        "id": "mEm-SFV2zUdl",
        "outputId": "83c4c467-0e78-444a-ea82-638fb251a17e"
      },
      "execution_count": 15,
      "outputs": [
        {
          "output_type": "stream",
          "name": "stdout",
          "text": [
            "0.07\n",
            "6.5\n"
          ]
        }
      ]
    },
    {
      "cell_type": "markdown",
      "source": [
        "`6.5%` of the missing data is due to missing bathroom or bedroom data. \n",
        "\n",
        "This accounts for `.07%` of the **new** dataset (the dataset with the missing price rows dropped). \n",
        "\n",
        "Since this value is negligible, the best way to account for the missing data is by filling with the median, due to the skew of the data<sup>+</sup>. "
      ],
      "metadata": {
        "id": "ZUqL_aU9zv9q"
      }
    },
    {
      "cell_type": "code",
      "source": [
        "# Calculate The Medians\n",
        "bed_median = data['bedrooms'].median()\n",
        "bath_median = data['bathrooms'].median()\n",
        "\n",
        "# Copy The Data (This Is Going To Be Used For Comparison Later)\n",
        "comparison_copy = data \n",
        "\n",
        "# Replace With The Median\n",
        "data['bedrooms'] = data['bedrooms'].replace(0, bed_median)\n",
        "data['bathrooms'] = data['bathrooms'].replace(0, bath_median)\n",
        "\n",
        "# Assert No More Missing Values\n",
        "assert len((data.loc[data['bedrooms'] <= 0]).index) == 0\n",
        "assert len((data.loc[data['bathrooms'] <= 0]).index) == 0 "
      ],
      "metadata": {
        "id": "3pR-NZNi0CHR"
      },
      "execution_count": 16,
      "outputs": []
    },
    {
      "cell_type": "markdown",
      "source": [
        "### Displaying The Data"
      ],
      "metadata": {
        "id": "gfaRELlnzWsX"
      }
    },
    {
      "cell_type": "markdown",
      "source": [
        "##### Important Displays"
      ],
      "metadata": {
        "id": "HIAJwLA3zxxq"
      }
    },
    {
      "cell_type": "code",
      "source": [
        "plt = data.boxplot(column=['price'])"
      ],
      "metadata": {
        "colab": {
          "base_uri": "https://localhost:8080/",
          "height": 54
        },
        "id": "oNoFl-A5zZNo",
        "outputId": "0cad7059-99d5-4ebb-d00a-da1837e6e799"
      },
      "execution_count": 17,
      "outputs": [
        {
          "output_type": "display_data",
          "data": {
            "text/plain": [
              "<Figure size 432x288 with 1 Axes>"
            ],
            "image/png": "[encoded data removed]"
          },
          "metadata": {
            "needs_background": "light"
          }
        }
      ]
    },
    {
      "cell_type": "markdown",
      "source": [
        "Price is our target value. Our model is going to attempt to predict the price given other factors."
      ],
      "metadata": {
        "id": "dar60pIm4bFz"
      }
    },
    {
      "cell_type": "code",
      "source": [
        "plt = data.boxplot(column=['sqft_lot'])"
      ],
      "metadata": {
        "colab": {
          "base_uri": "https://localhost:8080/",
          "height": 54
        },
        "id": "2e81TymDzpRH",
        "outputId": "6f9b47f3-3976-432c-e465-e6ea0db35abc"
      },
      "execution_count": 18,
      "outputs": [
        {
          "output_type": "display_data",
          "data": {
            "text/plain": [
              "<Figure size 432x288 with 1 Axes>"
            ],
            "image/png": "[encoded data removed]"
          },
          "metadata": {
            "needs_background": "light"
          }
        }
      ]
    },
    {
      "cell_type": "code",
      "source": [
        "plt = data.boxplot(column=['sqft_living'])"
      ],
      "metadata": {
        "colab": {
          "base_uri": "https://localhost:8080/",
          "height": 54
        },
        "id": "h4M2Y_gJ0KyO",
        "outputId": "3bd1511b-425c-4989-b6ca-7c856f3dd915"
      },
      "execution_count": 19,
      "outputs": [
        {
          "output_type": "display_data",
          "data": {
            "text/plain": [
              "<Figure size 432x288 with 1 Axes>"
            ],
            "image/png": "[encoded data removed]"
          },
          "metadata": {
            "needs_background": "light"
          }
        }
      ]
    },
    {
      "cell_type": "markdown",
      "source": [
        "These plots indicate a strong right skew with a lot of outliers along the right tail. This skew can be generalized to the rest of the data, and is logical since houses are less likely to be overly expensive, excessively large, etc. \n",
        "\n",
        "It is important to note that this generalization cannot apply to assigned integer values such as condition or view.\n",
        "\n",
        "Discluding the outliers, the distribution of the data appears approximately symmetric."
      ],
      "metadata": {
        "id": "aPqxLTFQ3YDG"
      }
    },
    {
      "cell_type": "code",
      "source": [
        "# Proof of Non-Generalization\n",
        "plt = data.boxplot(column=['condition'])"
      ],
      "metadata": {
        "colab": {
          "base_uri": "https://localhost:8080/",
          "height": 54
        },
        "id": "fI37YstV3k9s",
        "outputId": "76f1d390-4dd0-4e92-a6ca-16ba0cea397c"
      },
      "execution_count": 20,
      "outputs": [
        {
          "output_type": "display_data",
          "data": {
            "text/plain": [
              "<Figure size 432x288 with 1 Axes>"
            ],
            "image/png": "[encoded data removed]"
          },
          "metadata": {
            "needs_background": "light"
          }
        }
      ]
    },
    {
      "cell_type": "code",
      "source": [
        "# Proof of Generalization\n",
        "plt = data.boxplot(column=['bathrooms'])"
      ],
      "metadata": {
        "colab": {
          "base_uri": "https://localhost:8080/",
          "height": 54
        },
        "id": "pORBMuR43z_h",
        "outputId": "11762220-412f-40bd-affd-98215be32b84"
      },
      "execution_count": 21,
      "outputs": [
        {
          "output_type": "display_data",
          "data": {
            "text/plain": [
              "<Figure size 432x288 with 1 Axes>"
            ],
            "image/png": "[encoded data removed]"
          },
          "metadata": {
            "needs_background": "light"
          }
        }
      ]
    },
    {
      "cell_type": "markdown",
      "source": [
        "##### Object-To-Int Displays"
      ],
      "metadata": {
        "id": "pxbl1jzgz3xp"
      }
    },
    {
      "cell_type": "code",
      "source": [
        "plt = data.hist(column=['cityid'])"
      ],
      "metadata": {
        "colab": {
          "base_uri": "https://localhost:8080/",
          "height": 54
        },
        "id": "EHJ_4D2Bz6xp",
        "outputId": "127282cb-9930-4e4a-fadd-7582d9a70914"
      },
      "execution_count": 22,
      "outputs": [
        {
          "output_type": "display_data",
          "data": {
            "text/plain": [
              "<Figure size 432x288 with 1 Axes>"
            ],
            "image/png": "[encoded data removed]"
          },
          "metadata": {
            "needs_background": "light"
          }
        }
      ]
    },
    {
      "cell_type": "code",
      "source": [
        "plt = data.hist(column=['streetid'])"
      ],
      "metadata": {
        "colab": {
          "base_uri": "https://localhost:8080/",
          "height": 54
        },
        "id": "RWOEZM7x1ykn",
        "outputId": "f751f588-8afe-4bda-9c28-0634717f0f44"
      },
      "execution_count": 23,
      "outputs": [
        {
          "output_type": "display_data",
          "data": {
            "text/plain": [
              "<Figure size 432x288 with 1 Axes>"
            ],
            "image/png": "[encoded data removed]"
          },
          "metadata": {
            "needs_background": "light"
          }
        }
      ]
    },
    {
      "cell_type": "code",
      "source": [
        "plt = data.hist(column=['zipcode'])"
      ],
      "metadata": {
        "colab": {
          "base_uri": "https://localhost:8080/",
          "height": 54
        },
        "id": "0d8k0sec10or",
        "outputId": "d794700c-53bd-4e2e-e5d5-3a4ad6178ecd"
      },
      "execution_count": 24,
      "outputs": [
        {
          "output_type": "display_data",
          "data": {
            "text/plain": [
              "<Figure size 432x288 with 1 Axes>"
            ],
            "image/png": "[encoded data removed]"
          },
          "metadata": {
            "needs_background": "light"
          }
        }
      ]
    },
    {
      "cell_type": "markdown",
      "source": [
        "These histograms indicate that the majority of the data was collected in a similar location (i.e. close zip codes, same cities), and almost equal amounts of houses on each street were collected"
      ],
      "metadata": {
        "id": "pTNjwrBP19mS"
      }
    },
    {
      "cell_type": "markdown",
      "source": [
        "##### Compare Bedroom / Bathroom Data"
      ],
      "metadata": {
        "id": "BDN-_Fql1SvH"
      }
    },
    {
      "cell_type": "code",
      "source": [
        "plt = data.hist(column=['bedrooms'])\n",
        "plt = comparison_copy.hist(column=['bedrooms']) # comparison_copy Copied Earlier"
      ],
      "metadata": {
        "colab": {
          "base_uri": "https://localhost:8080/",
          "height": 71
        },
        "id": "rmd0Wa5j1V_o",
        "outputId": "8961e5f8-d7bb-45b8-ce74-58f019883fe3"
      },
      "execution_count": 25,
      "outputs": [
        {
          "output_type": "display_data",
          "data": {
            "text/plain": [
              "<Figure size 432x288 with 1 Axes>"
            ],
            "image/png": "[encoded data removed]"
          },
          "metadata": {
            "needs_background": "light"
          }
        },
        {
          "output_type": "display_data",
          "data": {
            "text/plain": [
              "<Figure size 432x288 with 1 Axes>"
            ],
            "image/png": "[encoded data removed]"
          },
          "metadata": {
            "needs_background": "light"
          }
        }
      ]
    },
    {
      "cell_type": "code",
      "source": [
        "plt = data.hist(column=['bathrooms'])\n",
        "plt = comparison_copy.hist(column=['bathrooms']) # comparison_copy Copied Earlier"
      ],
      "metadata": {
        "colab": {
          "base_uri": "https://localhost:8080/",
          "height": 71
        },
        "id": "SteVBWWt1i-q",
        "outputId": "e22293f7-7def-4b62-beb0-958ac146a8af"
      },
      "execution_count": 26,
      "outputs": [
        {
          "output_type": "display_data",
          "data": {
            "text/plain": [
              "<Figure size 432x288 with 1 Axes>"
            ],
            "image/png": "[encoded data removed]"
          },
          "metadata": {
            "needs_background": "light"
          }
        },
        {
          "output_type": "display_data",
          "data": {
            "text/plain": [
              "<Figure size 432x288 with 1 Axes>"
            ],
            "image/png": "[encoded data removed]"
          },
          "metadata": {
            "needs_background": "light"
          }
        }
      ]
    },
    {
      "cell_type": "markdown",
      "source": [
        "As seen above, there is negligible difference between the edited and non-edited copies of the data. This makes sense since there were only `121` entries for both data columns with unusable values, so compared to the thousands of data entries, we shouldn't see a noticeable difference. \n",
        "\n",
        "In fact, we can place both histograms on top of each other"
      ],
      "metadata": {
        "id": "eJCQTk-w1mVg"
      }
    },
    {
      "cell_type": "code",
      "source": [
        "# Superimpose Histograms\n",
        "\n",
        "import matplotlib.pyplot as plot \n",
        "\n",
        "# Get Amounts From Both Datasets\n",
        "new_bedrooms = {}\n",
        "copy_bedrooms = {}\n",
        "for _ in data['bedrooms']:\n",
        "  if _ in new_bedrooms.keys():\n",
        "    new_bedrooms[_] += 1\n",
        "  else:\n",
        "    new_bedrooms[_] = 1\n",
        "for _ in comparison_copy['bedrooms']:\n",
        "  if _ in copy_bedrooms.keys():\n",
        "    copy_bedrooms[_] += 1\n",
        "  else:\n",
        "    copy_bedrooms[_] = 1\n",
        "\n",
        "# Get The Subplots\n",
        "np.random.seed(0)\n",
        "fig, ax = plot.subplots()\n",
        "\n",
        "# Plot The Data\n",
        "a_heights, a_bins = np.histogram(data['bedrooms'])\n",
        "b_heights, b_bins = np.histogram(comparison_copy['bedrooms'], bins=a_bins)\n",
        "\n",
        "width = (a_bins[1] - a_bins[0])/3\n",
        "\n",
        "ax.bar(a_bins[:-1], a_heights, width=width, facecolor='seagreen')\n",
        "ax.bar(b_bins[:-1]+width, b_heights, width=width, facecolor='cornflowerblue')"
      ],
      "metadata": {
        "colab": {
          "base_uri": "https://localhost:8080/",
          "height": 207
        },
        "id": "CQRMuRr42Xvr",
        "outputId": "e6ad0030-1647-4de3-931d-5dbfaa089c35"
      },
      "execution_count": 27,
      "outputs": [
        {
          "output_type": "execute_result",
          "data": {
            "text/plain": [
              "<BarContainer object of 10 artists>"
            ]
          },
          "metadata": {},
          "execution_count": 27
        },
        {
          "output_type": "display_data",
          "data": {
            "text/plain": [
              "<Figure size 432x288 with 1 Axes>"
            ],
            "image/png": "[encoded data removed]"
          },
          "metadata": {
            "needs_background": "light"
          }
        }
      ]
    },
    {
      "cell_type": "markdown",
      "source": [
        "As seen above, we can see that there is no discernable difference between the plots, therefore we can safely assume that the updated data won't have a significant impact on the reliability of the model. "
      ],
      "metadata": {
        "id": "30mjk0VgYzyW"
      }
    },
    {
      "cell_type": "markdown",
      "source": [
        "### Scaling The Data (Normalization) and Filtration"
      ],
      "metadata": {
        "id": "6F1-pXXvJAEZ"
      }
    },
    {
      "cell_type": "markdown",
      "source": [],
      "metadata": {
        "id": "XhB7hOw2lLoE"
      }
    },
    {
      "cell_type": "markdown",
      "source": [
        "We want all the values to fall in between `0` and `1` (inclusive)<sup>++</sup>"
      ],
      "metadata": {
        "id": "R5MErp5UJEpX"
      }
    },
    {
      "cell_type": "code",
      "source": [
        "# Define Target and Predictors\n",
        "target = ['price']\n",
        "predictors = list(set(list(data.columns))-set(target))\n",
        "# Normalize Data\n",
        "data[predictors] = data[predictors]/data[predictors].max()"
      ],
      "metadata": {
        "id": "2iHFWl7uJDm3"
      },
      "execution_count": 28,
      "outputs": []
    },
    {
      "cell_type": "code",
      "source": [
        "# Show Normalized Data\n",
        "data.describe().transpose()"
      ],
      "metadata": {
        "colab": {
          "base_uri": "https://localhost:8080/",
          "height": 545
        },
        "id": "2Eur9nMnKH2-",
        "outputId": "01f84685-33ca-4b47-cf32-c2305df42d61"
      },
      "execution_count": 29,
      "outputs": [
        {
          "output_type": "execute_result",
          "data": {
            "text/plain": [
              "                  count           mean            std          min  \\\n",
              "price          363584.0  563433.262210  520946.911264  7800.000000   \n",
              "bedrooms       363584.0       0.377796       0.099768     0.111111   \n",
              "bathrooms      363584.0       0.270884       0.095691     0.093750   \n",
              "sqft_living    363584.0       0.157719       0.069811     0.027326   \n",
              "sqft_lot       363584.0       0.012338       0.029713     0.000594   \n",
              "floors         363584.0       0.437229       0.158621     0.285714   \n",
              "waterfront     363584.0       0.005482       0.073834     0.000000   \n",
              "view           363584.0       0.053656       0.183933     0.000000   \n",
              "condition      363584.0       0.690291       0.135399     0.200000   \n",
              "sqft_above     363584.0       0.193774       0.090349     0.039320   \n",
              "sqft_basement  363584.0       0.064751       0.095728     0.000000   \n",
              "yr_built       363584.0       0.978830       0.014872     0.943396   \n",
              "yr_renovated   363584.0       0.392780       0.484503     0.000000   \n",
              "cityid         363584.0       0.177170       0.190699     0.000000   \n",
              "streetid       363584.0       0.488228       0.286788     0.000000   \n",
              "zipcode        363584.0       0.997202       0.000498     0.996411   \n",
              "\n",
              "                         25%            50%            75%         max  \n",
              "price          345000.000000  482000.000000  664950.000000  26590000.0  \n",
              "bedrooms            0.333333       0.333333       0.444444         1.0  \n",
              "bathrooms           0.218750       0.281250       0.312500         1.0  \n",
              "sqft_living         0.108567       0.146233       0.192762         1.0  \n",
              "sqft_lot            0.004573       0.006957       0.009770         1.0  \n",
              "floors              0.285714       0.428571       0.571429         1.0  \n",
              "waterfront          0.000000       0.000000       0.000000         1.0  \n",
              "view                0.000000       0.000000       0.000000         1.0  \n",
              "condition           0.600000       0.600000       0.800000         1.0  \n",
              "sqft_above          0.126461       0.168969       0.245484         1.0  \n",
              "sqft_basement       0.000000       0.000000       0.128631         1.0  \n",
              "yr_built            0.968719       0.981132       0.992056         1.0  \n",
              "yr_renovated        0.000000       0.000000       0.992056         1.0  \n",
              "cityid              0.023256       0.093023       0.302326         1.0  \n",
              "streetid            0.239390       0.485632       0.732317         1.0  \n",
              "zipcode             0.996787       0.997133       0.997590         1.0  "
            ],
            "text/html": [
              "\n",
              "  <div id=\"df-281d12ba-68f5-40c1-9840-ce3fb34d0744\">\n",
              "    <div class=\"colab-df-container\">\n",
              "      <div>\n",
              "<style scoped>\n",
              "    .dataframe tbody tr th:only-of-type {\n",
              "        vertical-align: middle;\n",
              "    }\n",
              "\n",
              "    .dataframe tbody tr th {\n",
              "        vertical-align: top;\n",
              "    }\n",
              "\n",
              "    .dataframe thead th {\n",
              "        text-align: right;\n",
              "    }\n",
              "</style>\n",
              "<table border=\"1\" class=\"dataframe\">\n",
              "  <thead>\n",
              "    <tr style=\"text-align: right;\">\n",
              "      <th></th>\n",
              "      <th>count</th>\n",
              "      <th>mean</th>\n",
              "      <th>std</th>\n",
              "      <th>min</th>\n",
              "      <th>25%</th>\n",
              "      <th>50%</th>\n",
              "      <th>75%</th>\n",
              "      <th>max</th>\n",
              "    </tr>\n",
              "  </thead>\n",
              "  <tbody>\n",
              "    <tr>\n",
              "      <th>price</th>\n",
              "      <td>363584.0</td>\n",
              "      <td>563433.262210</td>\n",
              "      <td>520946.911264</td>\n",
              "      <td>7800.000000</td>\n",
              "      <td>345000.000000</td>\n",
              "      <td>482000.000000</td>\n",
              "      <td>664950.000000</td>\n",
              "      <td>26590000.0</td>\n",
              "    </tr>\n",
              "    <tr>\n",
              "      <th>bedrooms</th>\n",
              "      <td>363584.0</td>\n",
              "      <td>0.377796</td>\n",
              "      <td>0.099768</td>\n",
              "      <td>0.111111</td>\n",
              "      <td>0.333333</td>\n",
              "      <td>0.333333</td>\n",
              "      <td>0.444444</td>\n",
              "      <td>1.0</td>\n",
              "    </tr>\n",
              "    <tr>\n",
              "      <th>bathrooms</th>\n",
              "      <td>363584.0</td>\n",
              "      <td>0.270884</td>\n",
              "      <td>0.095691</td>\n",
              "      <td>0.093750</td>\n",
              "      <td>0.218750</td>\n",
              "      <td>0.281250</td>\n",
              "      <td>0.312500</td>\n",
              "      <td>1.0</td>\n",
              "    </tr>\n",
              "    <tr>\n",
              "      <th>sqft_living</th>\n",
              "      <td>363584.0</td>\n",
              "      <td>0.157719</td>\n",
              "      <td>0.069811</td>\n",
              "      <td>0.027326</td>\n",
              "      <td>0.108567</td>\n",
              "      <td>0.146233</td>\n",
              "      <td>0.192762</td>\n",
              "      <td>1.0</td>\n",
              "    </tr>\n",
              "    <tr>\n",
              "      <th>sqft_lot</th>\n",
              "      <td>363584.0</td>\n",
              "      <td>0.012338</td>\n",
              "      <td>0.029713</td>\n",
              "      <td>0.000594</td>\n",
              "      <td>0.004573</td>\n",
              "      <td>0.006957</td>\n",
              "      <td>0.009770</td>\n",
              "      <td>1.0</td>\n",
              "    </tr>\n",
              "    <tr>\n",
              "      <th>floors</th>\n",
              "      <td>363584.0</td>\n",
              "      <td>0.437229</td>\n",
              "      <td>0.158621</td>\n",
              "      <td>0.285714</td>\n",
              "      <td>0.285714</td>\n",
              "      <td>0.428571</td>\n",
              "      <td>0.571429</td>\n",
              "      <td>1.0</td>\n",
              "    </tr>\n",
              "    <tr>\n",
              "      <th>waterfront</th>\n",
              "      <td>363584.0</td>\n",
              "      <td>0.005482</td>\n",
              "      <td>0.073834</td>\n",
              "      <td>0.000000</td>\n",
              "      <td>0.000000</td>\n",
              "      <td>0.000000</td>\n",
              "      <td>0.000000</td>\n",
              "      <td>1.0</td>\n",
              "    </tr>\n",
              "    <tr>\n",
              "      <th>view</th>\n",
              "      <td>363584.0</td>\n",
              "      <td>0.053656</td>\n",
              "      <td>0.183933</td>\n",
              "      <td>0.000000</td>\n",
              "      <td>0.000000</td>\n",
              "      <td>0.000000</td>\n",
              "      <td>0.000000</td>\n",
              "      <td>1.0</td>\n",
              "    </tr>\n",
              "    <tr>\n",
              "      <th>condition</th>\n",
              "      <td>363584.0</td>\n",
              "      <td>0.690291</td>\n",
              "      <td>0.135399</td>\n",
              "      <td>0.200000</td>\n",
              "      <td>0.600000</td>\n",
              "      <td>0.600000</td>\n",
              "      <td>0.800000</td>\n",
              "      <td>1.0</td>\n",
              "    </tr>\n",
              "    <tr>\n",
              "      <th>sqft_above</th>\n",
              "      <td>363584.0</td>\n",
              "      <td>0.193774</td>\n",
              "      <td>0.090349</td>\n",
              "      <td>0.039320</td>\n",
              "      <td>0.126461</td>\n",
              "      <td>0.168969</td>\n",
              "      <td>0.245484</td>\n",
              "      <td>1.0</td>\n",
              "    </tr>\n",
              "    <tr>\n",
              "      <th>sqft_basement</th>\n",
              "      <td>363584.0</td>\n",
              "      <td>0.064751</td>\n",
              "      <td>0.095728</td>\n",
              "      <td>0.000000</td>\n",
              "      <td>0.000000</td>\n",
              "      <td>0.000000</td>\n",
              "      <td>0.128631</td>\n",
              "      <td>1.0</td>\n",
              "    </tr>\n",
              "    <tr>\n",
              "      <th>yr_built</th>\n",
              "      <td>363584.0</td>\n",
              "      <td>0.978830</td>\n",
              "      <td>0.014872</td>\n",
              "      <td>0.943396</td>\n",
              "      <td>0.968719</td>\n",
              "      <td>0.981132</td>\n",
              "      <td>0.992056</td>\n",
              "      <td>1.0</td>\n",
              "    </tr>\n",
              "    <tr>\n",
              "      <th>yr_renovated</th>\n",
              "      <td>363584.0</td>\n",
              "      <td>0.392780</td>\n",
              "      <td>0.484503</td>\n",
              "      <td>0.000000</td>\n",
              "      <td>0.000000</td>\n",
              "      <td>0.000000</td>\n",
              "      <td>0.992056</td>\n",
              "      <td>1.0</td>\n",
              "    </tr>\n",
              "    <tr>\n",
              "      <th>cityid</th>\n",
              "      <td>363584.0</td>\n",
              "      <td>0.177170</td>\n",
              "      <td>0.190699</td>\n",
              "      <td>0.000000</td>\n",
              "      <td>0.023256</td>\n",
              "      <td>0.093023</td>\n",
              "      <td>0.302326</td>\n",
              "      <td>1.0</td>\n",
              "    </tr>\n",
              "    <tr>\n",
              "      <th>streetid</th>\n",
              "      <td>363584.0</td>\n",
              "      <td>0.488228</td>\n",
              "      <td>0.286788</td>\n",
              "      <td>0.000000</td>\n",
              "      <td>0.239390</td>\n",
              "      <td>0.485632</td>\n",
              "      <td>0.732317</td>\n",
              "      <td>1.0</td>\n",
              "    </tr>\n",
              "    <tr>\n",
              "      <th>zipcode</th>\n",
              "      <td>363584.0</td>\n",
              "      <td>0.997202</td>\n",
              "      <td>0.000498</td>\n",
              "      <td>0.996411</td>\n",
              "      <td>0.996787</td>\n",
              "      <td>0.997133</td>\n",
              "      <td>0.997590</td>\n",
              "      <td>1.0</td>\n",
              "    </tr>\n",
              "  </tbody>\n",
              "</table>\n",
              "</div>\n",
              "      <button class=\"colab-df-convert\" onclick=\"convertToInteractive('df-281d12ba-68f5-40c1-9840-ce3fb34d0744')\"\n",
              "              title=\"Convert this dataframe to an interactive table.\"\n",
              "              style=\"display:none;\">\n",
              "        \n",
              "  <svg xmlns=\"http://www.w3.org/2000/svg\" height=\"24px\"viewBox=\"0 0 24 24\"\n",
              "       width=\"24px\">\n",
              "    <path d=\"M0 0h24v24H0V0z\" fill=\"none\"/>\n",
              "    <path d=\"M18.56 5.44l.94 2.06.94-2.06 2.06-.94-2.06-.94-.94-2.06-.94 2.06-2.06.94zm-11 1L8.5 8.5l.94-2.06 2.06-.94-2.06-.94L8.5 2.5l-.94 2.06-2.06.94zm10 10l.94 2.06.94-2.06 2.06-.94-2.06-.94-.94-2.06-.94 2.06-2.06.94z\"/><path d=\"M17.41 7.96l-1.37-1.37c-.4-.4-.92-.59-1.43-.59-.52 0-1.04.2-1.43.59L10.3 9.45l-7.72 7.72c-.78.78-.78 2.05 0 2.83L4 21.41c.39.39.9.59 1.41.59.51 0 1.02-.2 1.41-.59l7.78-7.78 2.81-2.81c.8-.78.8-2.07 0-2.86zM5.41 20L4 18.59l7.72-7.72 1.47 1.35L5.41 20z\"/>\n",
              "  </svg>\n",
              "      </button>\n",
              "      \n",
              "  <style>\n",
              "    .colab-df-container {\n",
              "      display:flex;\n",
              "      flex-wrap:wrap;\n",
              "      gap: 12px;\n",
              "    }\n",
              "\n",
              "    .colab-df-convert {\n",
              "      background-color: #E8F0FE;\n",
              "      border: none;\n",
              "      border-radius: 50%;\n",
              "      cursor: pointer;\n",
              "      display: none;\n",
              "      fill: #1967D2;\n",
              "      height: 32px;\n",
              "      padding: 0 0 0 0;\n",
              "      width: 32px;\n",
              "    }\n",
              "\n",
              "    .colab-df-convert:hover {\n",
              "      background-color: #E2EBFA;\n",
              "      box-shadow: 0px 1px 2px rgba(60, 64, 67, 0.3), 0px 1px 3px 1px rgba(60, 64, 67, 0.15);\n",
              "      fill: #174EA6;\n",
              "    }\n",
              "\n",
              "    [theme=dark] .colab-df-convert {\n",
              "      background-color: #3B4455;\n",
              "      fill: #D2E3FC;\n",
              "    }\n",
              "\n",
              "    [theme=dark] .colab-df-convert:hover {\n",
              "      background-color: #434B5C;\n",
              "      box-shadow: 0px 1px 3px 1px rgba(0, 0, 0, 0.15);\n",
              "      filter: drop-shadow(0px 1px 2px rgba(0, 0, 0, 0.3));\n",
              "      fill: #FFFFFF;\n",
              "    }\n",
              "  </style>\n",
              "\n",
              "      <script>\n",
              "        const buttonEl =\n",
              "          document.querySelector('#df-281d12ba-68f5-40c1-9840-ce3fb34d0744 button.colab-df-convert');\n",
              "        buttonEl.style.display =\n",
              "          google.colab.kernel.accessAllowed ? 'block' : 'none';\n",
              "\n",
              "        async function convertToInteractive(key) {\n",
              "          const element = document.querySelector('#df-281d12ba-68f5-40c1-9840-ce3fb34d0744');\n",
              "          const dataTable =\n",
              "            await google.colab.kernel.invokeFunction('convertToInteractive',\n",
              "                                                     [key], {});\n",
              "          if (!dataTable) return;\n",
              "\n",
              "          const docLinkHtml = 'Like what you see? Visit the ' +\n",
              "            '<a target=\"_blank\" href=https://colab.research.google.com/notebooks/data_table.ipynb>data table notebook</a>'\n",
              "            + ' to learn more about interactive tables.';\n",
              "          element.innerHTML = '';\n",
              "          dataTable['output_type'] = 'display_data';\n",
              "          await google.colab.output.renderOutput(dataTable, element);\n",
              "          const docLink = document.createElement('div');\n",
              "          docLink.innerHTML = docLinkHtml;\n",
              "          element.appendChild(docLink);\n",
              "        }\n",
              "      </script>\n",
              "    </div>\n",
              "  </div>\n",
              "  "
            ]
          },
          "metadata": {},
          "execution_count": 29
        }
      ]
    },
    {
      "cell_type": "markdown",
      "source": [
        "Next, we're going to check the variance threshold for the data."
      ],
      "metadata": {
        "id": "4zirbuGtMx3W"
      }
    },
    {
      "cell_type": "code",
      "source": [
        "from sklearn.feature_selection import VarianceThreshold\n",
        "\n",
        "v_threshold = VarianceThreshold(threshold=0)\n",
        "v_threshold.fit(data)\n",
        "v_threshold.get_support()"
      ],
      "metadata": {
        "colab": {
          "base_uri": "https://localhost:8080/"
        },
        "id": "jQJWefe3M0_N",
        "outputId": "466f31c8-ba58-4cc3-dea6-0a444b7a0405"
      },
      "execution_count": 30,
      "outputs": [
        {
          "output_type": "execute_result",
          "data": {
            "text/plain": [
              "array([ True,  True,  True,  True,  True,  True,  True,  True,  True,\n",
              "        True,  True,  True,  True,  True,  True,  True])"
            ]
          },
          "metadata": {},
          "execution_count": 30
        }
      ]
    },
    {
      "cell_type": "markdown",
      "source": [
        "The `get_support` method returns a *Boolean* array where `True` represents that the data column does not have zero variance<sup>2</sup>. Since no columns have zero variance, our data has varying features which can be used to train our model.\n",
        "\n",
        "Next, we will look at the Information Gain filtration method."
      ],
      "metadata": {
        "id": "2sSyCjuXNs-j"
      }
    },
    {
      "cell_type": "code",
      "source": [
        "from sklearn.feature_selection import mutual_info_regression\n",
        "import matplotlib.pyplot as plot\n",
        "\n",
        "y = [_ for _ in range(1, len(data.index)+1, 1)] # indices for every data row\n",
        "importances = mutual_info_regression(data, y)  # regression\n",
        "feat_importances = pd.Series(importances, data.columns[0:len(data.columns)])\n",
        "feat_importances.plot(kind='barh', color='green')\n",
        "plot.xlabel('Entropy Gain')\n",
        "plot.show()"
      ],
      "metadata": {
        "colab": {
          "base_uri": "https://localhost:8080/",
          "height": 279
        },
        "id": "0OYpHUWZN9-B",
        "outputId": "ec7f2520-6fd0-4532-dddb-04a397c7a5be"
      },
      "execution_count": 31,
      "outputs": [
        {
          "output_type": "display_data",
          "data": {
            "text/plain": [
              "<Figure size 432x288 with 1 Axes>"
            ],
            "image/png": "[encoded data removed]"
          },
          "metadata": {
            "needs_background": "light"
          }
        }
      ]
    },
    {
      "cell_type": "markdown",
      "source": [
        "This means that columns closer to `0` have less entropy (less total amount of microstates, i.e. less possible variability of values in the data), whereas columns larger have more entropy. These columns with less entropy are \"less surprising\" in terms of its effect on the data and the model<sup>3</sup>."
      ],
      "metadata": {
        "id": "Bw0qGde7R0ad"
      }
    },
    {
      "cell_type": "markdown",
      "source": [
        "### Modeling"
      ],
      "metadata": {
        "id": "JFqicr2ElMiw"
      }
    },
    {
      "cell_type": "markdown",
      "source": [
        "First, let's separate the data. Our goal is to predict the price, so that's our `target_feature`. Everything else will be used to help the model predict the price."
      ],
      "metadata": {
        "id": "v_ivTUNHoAKV"
      }
    },
    {
      "cell_type": "code",
      "source": [
        "target_feature = ['price']\n",
        "features = list(set(list(data.columns))-set(target_feature)) # Separate price data\n",
        "X = data[features].values\n",
        "y = data[target_feature].values\n",
        "y = np.ravel(y) # fix format of price data"
      ],
      "metadata": {
        "id": "hwhDWV0ToNdG"
      },
      "execution_count": 34,
      "outputs": []
    },
    {
      "cell_type": "markdown",
      "source": [
        "Now, let's import what we need to do this. We will be using the KNeighborsRegressor<sup>+++</sup> to model this data. We need a regression method because we're not classifying; we're predicted a numerical quantity. Due to the size and complexity of this data set, we cannot assume a linear model. Therefore, we cannot use `LinearRegression` from `sklearn`. In order to conserve time and RAM usage, KNeighborsRegressor was selected over RadiusNeighborsRegressor. "
      ],
      "metadata": {
        "id": "kvQ-KJYUosuV"
      }
    },
    {
      "cell_type": "code",
      "source": [
        "from sklearn.model_selection import train_test_split\n",
        "import matplotlib.pyplot as plt\n",
        "from sklearn.metrics import mean_squared_error, r2_score\n",
        "from sklearn.neighbors import KNeighborsRegressor"
      ],
      "metadata": {
        "id": "jATPQPriouok"
      },
      "execution_count": 35,
      "outputs": []
    },
    {
      "cell_type": "markdown",
      "source": [
        "On to building the model:"
      ],
      "metadata": {
        "id": "IiYVbieSo460"
      }
    },
    {
      "cell_type": "code",
      "source": [
        "X_train, X_test, y_train, y_test = train_test_split(X, y, test_size = .3, random_state=40)\n",
        "reg = KNeighborsRegressor()\n",
        "reg.fit(X_train, y_train)\n",
        "prediction = reg.predict(X_test)\n",
        "\n",
        "print(\"Mean Squared Error: %.2f\" % mean_squared_error(prediction, y_test))\n",
        "print('r^2 Value: ' + str(r2_score(y_test, prediction)))\n",
        "plot.plot(y_test, prediction, color='red')"
      ],
      "metadata": {
        "colab": {
          "base_uri": "https://localhost:8080/",
          "height": 340
        },
        "id": "VQsJo28Jo7wV",
        "outputId": "4b25ed6b-815c-4983-dbf1-2eb5f56756ae"
      },
      "execution_count": 40,
      "outputs": [
        {
          "output_type": "stream",
          "name": "stdout",
          "text": [
            "Mean Squared Error: 2017365.38\n",
            "r^2 Value: 0.9999920383243036\n"
          ]
        },
        {
          "output_type": "execute_result",
          "data": {
            "text/plain": [
              "[<matplotlib.lines.Line2D at 0x7f3f8d1b5f10>]"
            ]
          },
          "metadata": {},
          "execution_count": 40
        },
        {
          "output_type": "display_data",
          "data": {
            "text/plain": [
              "<Figure size 432x288 with 1 Axes>"
            ],
            "image/png": "[encoded data removed]"
          },
          "metadata": {
            "needs_background": "light"
          }
        }
      ]
    },
    {
      "cell_type": "markdown",
      "source": [
        "Our r<sup>2</sup> is really close to 1, meaning that the model we trained does really well at predicting the actual price of the house (in a perfect model, r<sup>2</sup> would be 1). However, with this close of a perfect model, there is no need to improve the accuracy of the model, thus concluding our prediction model of house prices based on many factors."
      ],
      "metadata": {
        "id": "em1-Q02cH6gj"
      }
    },
    {
      "cell_type": "markdown",
      "source": [
        "### Sources, Acknowledgements, and More Reading"
      ],
      "metadata": {
        "id": "4VyHd3Awg61O"
      }
    },
    {
      "cell_type": "markdown",
      "source": [
        "##### Sources & Acknowledgements"
      ],
      "metadata": {
        "id": "Ry-NLbiKkDW4"
      }
    },
    {
      "cell_type": "markdown",
      "source": [
        "<sup>1</sup>Shree. (2018). House Price Prediction. Kaggle. https://www.kaggle.com/datasets/shree1992/housedata<br><br>\n",
        "<sup>2</sup>Gupta, A. (2020, October 10). Feature Selection Techniques in Machine Learning. Analytics Vidhya. https://www.analyticsvidhya.com/blog/2020/10/feature-selection-techniques-in-machine-learning/ <br><br>\n",
        "<sup>3</sup>Brownlee, J. (2019, October 16). Information Gain and Mutual Information for Machine Learning. *Probability*. Machine Learning Mastery. https://machinelearningmastery.com/information-gain-and-mutual-information/<br><br>\n",
        "\n",
        "Links to Packages Used: <br>\n",
        "Pandas: https://pandas.pydata.org/docs/ <br>\n",
        "Matplotlib: https://matplotlib.org <br>\n",
        "Numpy: https://numpy.org <br>\n",
        "Scikit-Learn: https://scikit-learn.org/stable/ <br>\n",
        "Scikit-Feature-Chappers: https://pypi.org/project/skfeature-chappers/ <br>\n",
        "\n"
      ],
      "metadata": {
        "id": "KwudS0TOg8Te"
      }
    },
    {
      "cell_type": "markdown",
      "source": [
        "##### More Reading"
      ],
      "metadata": {
        "id": "bFpOsIZFkFrM"
      }
    },
    {
      "cell_type": "markdown",
      "source": [
        "<sup>+</sup>More Reading on Imputation: https://vitalflux.com/pandas-impute-missing-values-mean-median-mode/#How_to_decide_which_imputation_technique_to_use<br><br>\n",
        "<sup>++</sup>More Reading on Normalization: https://deepchecks.com/glossary/normalization-in-machine-learning/ <br><br>\n",
        "\n",
        "<sup>+++</sup>More Reading on (K) Nearest Neighbors Regression: https://scikit-learn.org/stable/modules/neighbors.html#regression and https://scikit-learn.org/stable/modules/generated/sklearn.neighbors.KNeighborsRegressor.html\n",
        "\n"
      ],
      "metadata": {
        "id": "nWR5f8MEkrOA"
      }
    },
    {
      "cell_type": "markdown",
      "source": [
        "<sub>This model was created by Neil G. and Daniel D.</sub>"
      ],
      "metadata": {
        "id": "JqTkvkLIIje1"
      }
    }
  ]
}